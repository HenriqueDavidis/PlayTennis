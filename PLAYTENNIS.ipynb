{
  "nbformat": 4,
  "nbformat_minor": 0,
  "metadata": {
    "colab": {
      "provenance": []
    },
    "kernelspec": {
      "name": "python3",
      "display_name": "Python 3"
    },
    "language_info": {
      "name": "python"
    }
  },
  "cells": [
    {
      "cell_type": "code",
      "execution_count": null,
      "metadata": {
        "id": "w4mLmI6hNvme"
      },
      "outputs": [],
      "source": [
        "#PLAYTENNIS\n",
        "#\n",
        "# Tabela:\n",
        "#\n",
        "# | Dia | Clima   | Temperatura | Umidade  | Vento | PlayTennis |\n",
        "# | D1  | Sol     | Quente      | Alta     | Fraco | Não        |\n",
        "# | D2  | Sol     | Quente      | Alta     | Forte | Não        |\n",
        "# | D3  | Nublado | Quente      | Alta     | Fraco | Sim        |\n",
        "# | D4  | Chuva   | Médio       | Alta     | Fraco | Sim        |\n",
        "# | D5  | Chuva   | Frio        | Normal   | Fraco | Sim        |\n",
        "# | D6  | Chuva   | Frio        | Normal   | Forte | Não        |\n",
        "# | D7  | Nublado | Frio        | Normal   | Forte | Sim        |\n",
        "# | D8  | Sol     | Médio       | Alta     | Fraco | Não        |\n",
        "\n",
        "from sklearn import tree\n",
        "\n",
        "# Definindo os dados de treinamento\n",
        "dados = [\n",
        "    ['Sol', 'Quente', 'Alta', 'Fraco', 'Não'],\n",
        "    ['Sol', 'Quente', 'Alta', 'Forte', 'Não'],\n",
        "    ['Nublado', 'Quente', 'Alta', 'Fraco', 'Sim'],\n",
        "    ['Chuva', 'Médio', 'Alta', 'Fraco', 'Sim'],\n",
        "    ['Chuva', 'Frio', 'Normal', 'Fraco', 'Sim'],\n",
        "    ['Chuva', 'Frio', 'Normal', 'Forte', 'Não'],\n",
        "    ['Nublado', 'Frio', 'Normal', 'Forte', 'Sim'],\n",
        "    ['Sol', 'Médio', 'Alta', 'Fraco', 'Não']\n",
        "]\n",
        "\n",
        "# Convertendo os dados categóricos em representações numéricas\n",
        "mapeamento = {'Sol': 0, 'Nublado': 1, 'Chuva': 2, 'Quente': 0, 'Médio': 1, 'Frio': 2, 'Alta': 0, 'Normal': 1, 'Fraco': 0, 'Forte': 1}\n",
        "dados_numericos = []\n",
        "\n",
        "for dado in dados:\n",
        "    dado_numerico = [mapeamento[item] for item in dado[:-1]]\n",
        "    dado_numerico.append(dado[-1])\n",
        "    dados_numericos.append(dado_numerico)\n",
        "\n",
        "# Separando os atributos e os rótulos\n",
        "atributos = [linha[:-1] for linha in dados_numericos]\n",
        "rotulos = [linha[-1] for linha in dados_numericos]\n",
        "\n",
        "# Criando o classificador de árvore de decisão\n",
        "clf = tree.DecisionTreeClassifier()\n",
        "\n",
        "# Treinando o classificador\n",
        "clf = clf.fit(atributos, rotulos)\n",
        "\n",
        "# Função para obter a entrada do usuário\n",
        "def obter_dados():\n",
        "    clima = input(\"Digite o clima (Sol, Nublado, Chuva): \")\n",
        "    temperatura = input(\"Digite a temperatura (Quente, Médio, Frio): \")\n",
        "    umidade = input(\"Digite a umidade (Alta, Normal): \")\n",
        "    vento = input(\"Digite o vento (Fraco, Forte): \")\n",
        "\n",
        "    return [mapeamento[clima], mapeamento[temperatura], mapeamento[umidade], mapeamento[vento]]\n",
        "\n",
        "# Fazendo a previsão com base nos dados fornecidos pelo usuário\n",
        "dados = obter_dados()\n",
        "previsao = clf.predict([dados])[0]\n",
        "\n",
        "# Imprimindo a previsão\n",
        "if previsao == 'Sim':\n",
        "    print(\"É possível jogar tênis nas condições climáticas fornecidas.\")\n",
        "else:\n",
        "    print(\"Não é possível jogar tênis nas condições climáticas fornecidas.\")"
      ]
    }
  ]
}